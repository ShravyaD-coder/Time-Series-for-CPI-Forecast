{
 "cells": [
  {
   "cell_type": "code",
   "execution_count": 9,
   "id": "7070b893",
   "metadata": {},
   "outputs": [],
   "source": [
    "# Import the Images module from pillow\n",
    "from PIL import Image\n",
    "\n"
   ]
  },
  {
   "cell_type": "code",
   "execution_count": null,
   "id": "a5692c0d",
   "metadata": {},
   "outputs": [],
   "source": [
    "\n",
    "# Open the image by specifying the image path.\n",
    "image_path = \"./Methodology.png\"\n",
    "image_file = Image.open(image_path)\n",
    "\n",
    "# the default\n"
   ]
  },
  {
   "cell_type": "code",
   "execution_count": 14,
   "id": "b8260ed2",
   "metadata": {},
   "outputs": [],
   "source": [
    "image_file.show()"
   ]
  },
  {
   "cell_type": "code",
   "execution_count": 15,
   "id": "99e9f1aa",
   "metadata": {},
   "outputs": [],
   "source": [
    "image_file.save(\"methodology.png\", dpi=(300,300))\n"
   ]
  },
  {
   "cell_type": "code",
   "execution_count": null,
   "id": "a2ec0637",
   "metadata": {},
   "outputs": [
    {
     "name": "stderr",
     "output_type": "stream",
     "text": [
      "C:\\Users\\Shravya Dasu\\AppData\\Local\\Temp\\ipykernel_15628\\723632321.py:5: DeprecationWarning: ANTIALIAS is deprecated and will be removed in Pillow 10 (2023-07-01). Use LANCZOS or Resampling.LANCZOS instead.\n",
      "  im_resized = im.resize(size, Image.ANTIALIAS)\n"
     ]
    }
   ],
   "source": [
    "from PIL import Image\n",
    "\n",
    "size = 7016, 4961\n",
    "im = Image.open(\"./Methodology.png\")\n",
    "im_resized = im.resize(size, Image.ANTIALIAS)\n",
    "im_resized.save(\"my_image_resized.png\", \"PNG\")"
   ]
  },
  {
   "cell_type": "code",
   "execution_count": null,
   "id": "aa471942",
   "metadata": {},
   "outputs": [],
   "source": []
  },
  {
   "cell_type": "code",
   "execution_count": null,
   "id": "95253de6",
   "metadata": {},
   "outputs": [],
   "source": []
  }
 ],
 "metadata": {
  "kernelspec": {
   "display_name": "Python 3 (ipykernel)",
   "language": "python",
   "name": "python3"
  },
  "language_info": {
   "codemirror_mode": {
    "name": "ipython",
    "version": 3
   },
   "file_extension": ".py",
   "mimetype": "text/x-python",
   "name": "python",
   "nbconvert_exporter": "python",
   "pygments_lexer": "ipython3",
   "version": "3.8.16"
  }
 },
 "nbformat": 4,
 "nbformat_minor": 5
}
